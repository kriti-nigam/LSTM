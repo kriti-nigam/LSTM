{
  "nbformat": 4,
  "nbformat_minor": 0,
  "metadata": {
    "colab": {
      "name": "MultiClass.ipynb",
      "provenance": [],
      "authorship_tag": "ABX9TyPdaUP5dCz2FVdKrmVndZRh",
      "include_colab_link": true
    },
    "kernelspec": {
      "name": "python3",
      "display_name": "Python 3"
    }
  },
  "cells": [
    {
      "cell_type": "markdown",
      "metadata": {
        "id": "view-in-github",
        "colab_type": "text"
      },
      "source": [
        "<a href=\"https://colab.research.google.com/github/kriti-nigam/LSTM/blob/main/MultiClass.ipynb\" target=\"_parent\"><img src=\"https://colab.research.google.com/assets/colab-badge.svg\" alt=\"Open In Colab\"/></a>"
      ]
    },
    {
      "cell_type": "code",
      "metadata": {
        "id": "gRqE6P35zjbl"
      },
      "source": [
        "import re     \n",
        "import nltk  \n",
        "import string \n",
        "import warnings \n",
        "import numpy as np \n",
        "import pandas as pd \n",
        "import seaborn as sns \n",
        "import matplotlib.pyplot as plt\n",
        "import emoji"
      ],
      "execution_count": 4,
      "outputs": []
    },
    {
      "cell_type": "code",
      "metadata": {
        "id": "ixXnGGip0QhF",
        "outputId": "6794563c-4ac8-4688-fb37-54888051c493",
        "colab": {
          "base_uri": "https://localhost:8080/"
        }
      },
      "source": [
        "!ls"
      ],
      "execution_count": 5,
      "outputs": [
        {
          "output_type": "stream",
          "text": [
            "aspell.txt  contractions.csv  sample_data  text_emotion.csv\n"
          ],
          "name": "stdout"
        }
      ]
    },
    {
      "cell_type": "code",
      "metadata": {
        "id": "Bn10zj5q0Rqt"
      },
      "source": [
        "!pip install tweet-preprocessor 2>/dev/null 1>/dev/null"
      ],
      "execution_count": 6,
      "outputs": []
    },
    {
      "cell_type": "code",
      "metadata": {
        "id": "cxZSnBnh0U-E"
      },
      "source": [
        "data = pd.read_csv(\"text_emotion.csv\")"
      ],
      "execution_count": 7,
      "outputs": []
    },
    {
      "cell_type": "code",
      "metadata": {
        "id": "PAMtuKnh0Yr9",
        "outputId": "53efd88d-1517-4031-af32-e05e527374c8",
        "colab": {
          "base_uri": "https://localhost:8080/",
          "height": 669
        }
      },
      "source": [
        "data.head(20)"
      ],
      "execution_count": 8,
      "outputs": [
        {
          "output_type": "execute_result",
          "data": {
            "text/html": [
              "<div>\n",
              "<style scoped>\n",
              "    .dataframe tbody tr th:only-of-type {\n",
              "        vertical-align: middle;\n",
              "    }\n",
              "\n",
              "    .dataframe tbody tr th {\n",
              "        vertical-align: top;\n",
              "    }\n",
              "\n",
              "    .dataframe thead th {\n",
              "        text-align: right;\n",
              "    }\n",
              "</style>\n",
              "<table border=\"1\" class=\"dataframe\">\n",
              "  <thead>\n",
              "    <tr style=\"text-align: right;\">\n",
              "      <th></th>\n",
              "      <th>tweet_id</th>\n",
              "      <th>sentiment</th>\n",
              "      <th>author</th>\n",
              "      <th>content</th>\n",
              "    </tr>\n",
              "  </thead>\n",
              "  <tbody>\n",
              "    <tr>\n",
              "      <th>0</th>\n",
              "      <td>1956967341</td>\n",
              "      <td>empty</td>\n",
              "      <td>xoshayzers</td>\n",
              "      <td>@tiffanylue i know  i was listenin to bad habi...</td>\n",
              "    </tr>\n",
              "    <tr>\n",
              "      <th>1</th>\n",
              "      <td>1956967666</td>\n",
              "      <td>sadness</td>\n",
              "      <td>wannamama</td>\n",
              "      <td>Layin n bed with a headache  ughhhh...waitin o...</td>\n",
              "    </tr>\n",
              "    <tr>\n",
              "      <th>2</th>\n",
              "      <td>1956967696</td>\n",
              "      <td>sadness</td>\n",
              "      <td>coolfunky</td>\n",
              "      <td>Funeral ceremony...gloomy friday...</td>\n",
              "    </tr>\n",
              "    <tr>\n",
              "      <th>3</th>\n",
              "      <td>1956967789</td>\n",
              "      <td>enthusiasm</td>\n",
              "      <td>czareaquino</td>\n",
              "      <td>wants to hang out with friends SOON!</td>\n",
              "    </tr>\n",
              "    <tr>\n",
              "      <th>4</th>\n",
              "      <td>1956968416</td>\n",
              "      <td>neutral</td>\n",
              "      <td>xkilljoyx</td>\n",
              "      <td>@dannycastillo We want to trade with someone w...</td>\n",
              "    </tr>\n",
              "    <tr>\n",
              "      <th>5</th>\n",
              "      <td>1956968477</td>\n",
              "      <td>worry</td>\n",
              "      <td>xxxPEACHESxxx</td>\n",
              "      <td>Re-pinging @ghostridah14: why didn't you go to...</td>\n",
              "    </tr>\n",
              "    <tr>\n",
              "      <th>6</th>\n",
              "      <td>1956968487</td>\n",
              "      <td>sadness</td>\n",
              "      <td>ShansBee</td>\n",
              "      <td>I should be sleep, but im not! thinking about ...</td>\n",
              "    </tr>\n",
              "    <tr>\n",
              "      <th>7</th>\n",
              "      <td>1956968636</td>\n",
              "      <td>worry</td>\n",
              "      <td>mcsleazy</td>\n",
              "      <td>Hmmm. http://www.djhero.com/ is down</td>\n",
              "    </tr>\n",
              "    <tr>\n",
              "      <th>8</th>\n",
              "      <td>1956969035</td>\n",
              "      <td>sadness</td>\n",
              "      <td>nic0lepaula</td>\n",
              "      <td>@charviray Charlene my love. I miss you</td>\n",
              "    </tr>\n",
              "    <tr>\n",
              "      <th>9</th>\n",
              "      <td>1956969172</td>\n",
              "      <td>sadness</td>\n",
              "      <td>Ingenue_Em</td>\n",
              "      <td>@kelcouch I'm sorry  at least it's Friday?</td>\n",
              "    </tr>\n",
              "    <tr>\n",
              "      <th>10</th>\n",
              "      <td>1956969456</td>\n",
              "      <td>neutral</td>\n",
              "      <td>feinyheiny</td>\n",
              "      <td>cant fall asleep</td>\n",
              "    </tr>\n",
              "    <tr>\n",
              "      <th>11</th>\n",
              "      <td>1956969531</td>\n",
              "      <td>worry</td>\n",
              "      <td>dudeitsmanda</td>\n",
              "      <td>Choked on her retainers</td>\n",
              "    </tr>\n",
              "    <tr>\n",
              "      <th>12</th>\n",
              "      <td>1956970047</td>\n",
              "      <td>sadness</td>\n",
              "      <td>Danied32</td>\n",
              "      <td>Ugh! I have to beat this stupid song to get to...</td>\n",
              "    </tr>\n",
              "    <tr>\n",
              "      <th>13</th>\n",
              "      <td>1956970424</td>\n",
              "      <td>sadness</td>\n",
              "      <td>Samm_xo</td>\n",
              "      <td>@BrodyJenner if u watch the hills in london u ...</td>\n",
              "    </tr>\n",
              "    <tr>\n",
              "      <th>14</th>\n",
              "      <td>1956970860</td>\n",
              "      <td>surprise</td>\n",
              "      <td>okiepeanut93</td>\n",
              "      <td>Got the news</td>\n",
              "    </tr>\n",
              "    <tr>\n",
              "      <th>15</th>\n",
              "      <td>1956971077</td>\n",
              "      <td>sadness</td>\n",
              "      <td>Sim_34</td>\n",
              "      <td>The storm is here and the electricity is gone</td>\n",
              "    </tr>\n",
              "    <tr>\n",
              "      <th>16</th>\n",
              "      <td>1956971170</td>\n",
              "      <td>love</td>\n",
              "      <td>poppygallico</td>\n",
              "      <td>@annarosekerr agreed</td>\n",
              "    </tr>\n",
              "    <tr>\n",
              "      <th>17</th>\n",
              "      <td>1956971206</td>\n",
              "      <td>sadness</td>\n",
              "      <td>brokenangel1982</td>\n",
              "      <td>So sleepy again and it's not even that late. I...</td>\n",
              "    </tr>\n",
              "    <tr>\n",
              "      <th>18</th>\n",
              "      <td>1956971473</td>\n",
              "      <td>worry</td>\n",
              "      <td>LCJ82</td>\n",
              "      <td>@PerezHilton lady gaga tweeted about not being...</td>\n",
              "    </tr>\n",
              "    <tr>\n",
              "      <th>19</th>\n",
              "      <td>1956971586</td>\n",
              "      <td>sadness</td>\n",
              "      <td>cleepow</td>\n",
              "      <td>How are YOU convinced that I have always wante...</td>\n",
              "    </tr>\n",
              "  </tbody>\n",
              "</table>\n",
              "</div>"
            ],
            "text/plain": [
              "      tweet_id  ...                                            content\n",
              "0   1956967341  ...  @tiffanylue i know  i was listenin to bad habi...\n",
              "1   1956967666  ...  Layin n bed with a headache  ughhhh...waitin o...\n",
              "2   1956967696  ...                Funeral ceremony...gloomy friday...\n",
              "3   1956967789  ...               wants to hang out with friends SOON!\n",
              "4   1956968416  ...  @dannycastillo We want to trade with someone w...\n",
              "5   1956968477  ...  Re-pinging @ghostridah14: why didn't you go to...\n",
              "6   1956968487  ...  I should be sleep, but im not! thinking about ...\n",
              "7   1956968636  ...               Hmmm. http://www.djhero.com/ is down\n",
              "8   1956969035  ...            @charviray Charlene my love. I miss you\n",
              "9   1956969172  ...         @kelcouch I'm sorry  at least it's Friday?\n",
              "10  1956969456  ...                                   cant fall asleep\n",
              "11  1956969531  ...                            Choked on her retainers\n",
              "12  1956970047  ...  Ugh! I have to beat this stupid song to get to...\n",
              "13  1956970424  ...  @BrodyJenner if u watch the hills in london u ...\n",
              "14  1956970860  ...                                       Got the news\n",
              "15  1956971077  ...      The storm is here and the electricity is gone\n",
              "16  1956971170  ...                               @annarosekerr agreed\n",
              "17  1956971206  ...  So sleepy again and it's not even that late. I...\n",
              "18  1956971473  ...  @PerezHilton lady gaga tweeted about not being...\n",
              "19  1956971586  ...  How are YOU convinced that I have always wante...\n",
              "\n",
              "[20 rows x 4 columns]"
            ]
          },
          "metadata": {
            "tags": []
          },
          "execution_count": 8
        }
      ]
    },
    {
      "cell_type": "code",
      "metadata": {
        "id": "3-21AoD80ayh"
      },
      "source": [
        "#Pre Processing"
      ],
      "execution_count": 9,
      "outputs": []
    },
    {
      "cell_type": "code",
      "metadata": {
        "id": "9clPRHPs0eSK"
      },
      "source": [
        "#Misspelled words\n",
        "misspell_data = pd.read_csv(\"aspell.txt\",sep=\":\",names=[\"correction\",\"misspell\"])\n",
        "misspell_data.misspell = misspell_data.misspell.str.strip()\n",
        "misspell_data.misspell = misspell_data.misspell.str.split(\" \")\n",
        "misspell_data = misspell_data.explode(\"misspell\").reset_index(drop=True)\n",
        "misspell_data.drop_duplicates(\"misspell\",inplace=True)\n",
        "miss_corr = dict(zip(misspell_data.misspell, misspell_data.correction))"
      ],
      "execution_count": 10,
      "outputs": []
    },
    {
      "cell_type": "code",
      "metadata": {
        "id": "CU7tGN3X1938",
        "outputId": "883cd7d9-2644-486a-e1f5-25de958821b9",
        "colab": {
          "base_uri": "https://localhost:8080/"
        }
      },
      "source": [
        "{v:miss_corr[v] for v in [list(miss_corr.keys())[k] for k in range(50)]}"
      ],
      "execution_count": 11,
      "outputs": [
        {
          "output_type": "execute_result",
          "data": {
            "text/plain": [
              "{'Steffen': 'Stephen',\n",
              " 'abilitey': 'ability',\n",
              " 'abouy': 'about',\n",
              " 'absorbtion': 'absorption',\n",
              " 'accidently': 'accidentally',\n",
              " 'accomodate': 'accommodate',\n",
              " 'acommadate': 'accommodate',\n",
              " 'acord': 'accord',\n",
              " 'adultry': 'adultery',\n",
              " 'aggresive': 'aggressive',\n",
              " 'alchohol': 'alcohol',\n",
              " 'alchoholic': 'alcoholic',\n",
              " 'allieve': 'alive',\n",
              " 'alright': 'all_right',\n",
              " 'amature': 'amateur',\n",
              " 'ambivilant': 'ambivalent',\n",
              " 'amification': 'amplification',\n",
              " 'amourfous': 'amorphous',\n",
              " 'annoint': 'anoint',\n",
              " 'annonsment': 'announcement',\n",
              " 'annuncio': 'announce',\n",
              " 'anonomy': 'anatomy',\n",
              " 'anotomy': 'anatomy',\n",
              " 'anynomous': 'anonymous',\n",
              " 'appreceiated': 'appreciated',\n",
              " 'appresteate': 'appreciate',\n",
              " 'aquantance': 'acquaintance',\n",
              " 'aratictature': 'architecture',\n",
              " 'archeype': 'archetype',\n",
              " 'aricticure': 'architecture',\n",
              " 'artic': 'arctic',\n",
              " 'asentote': 'asymptote',\n",
              " 'ast': 'at',\n",
              " 'asterick': 'asterisk',\n",
              " 'asymetric': 'asymmetric',\n",
              " 'atentively': 'attentively',\n",
              " 'autoamlly': 'automatically',\n",
              " 'bankrot': 'bankrupt',\n",
              " 'basicly': 'basically',\n",
              " 'batallion': 'battalion',\n",
              " 'beggining': 'beginning',\n",
              " 'beging': 'beginning',\n",
              " 'behavior': 'behaviour',\n",
              " 'behaviour': 'behavior',\n",
              " 'bigginging': 'beginning',\n",
              " 'equire': 'acquire',\n",
              " 'nevade': 'Nevada',\n",
              " 'presbyterian': 'Presbyterian',\n",
              " 'rsx': 'RSX',\n",
              " 'susan': 'Susan'}"
            ]
          },
          "metadata": {
            "tags": []
          },
          "execution_count": 11
        }
      ]
    },
    {
      "cell_type": "code",
      "metadata": {
        "id": "yvd-HF5D2C6v"
      },
      "source": [
        "def misspelled_correction(val):\n",
        "    for x in val.split(): \n",
        "        if x in miss_corr.keys(): \n",
        "            val = val.replace(x, miss_corr[x]) \n",
        "    return val\n",
        "\n",
        "data[\"clean_content\"] = data.content.apply(lambda x : misspelled_correction(x))"
      ],
      "execution_count": 12,
      "outputs": []
    },
    {
      "cell_type": "code",
      "metadata": {
        "id": "Jd7BECSM2GN4"
      },
      "source": [
        "#Removing COntractions"
      ],
      "execution_count": 13,
      "outputs": []
    },
    {
      "cell_type": "code",
      "metadata": {
        "id": "yWT1PpO52PdJ"
      },
      "source": [
        "contractions = pd.read_csv(\"contractions.csv\")\n",
        "cont_dic = dict(zip(contractions.Contraction, contractions.Meaning))"
      ],
      "execution_count": 14,
      "outputs": []
    },
    {
      "cell_type": "code",
      "metadata": {
        "id": "ldOU1L5G2YEM"
      },
      "source": [
        "def cont_to_meaning(val): \n",
        "  \n",
        "    for x in val.split(): \n",
        "        if x in cont_dic.keys(): \n",
        "            val = val.replace(x, cont_dic[x]) \n",
        "    return val"
      ],
      "execution_count": 15,
      "outputs": []
    },
    {
      "cell_type": "code",
      "metadata": {
        "id": "MskI54zH2ben"
      },
      "source": [
        "data.clean_content = data.clean_content.apply(lambda x : cont_to_meaning(x))"
      ],
      "execution_count": 16,
      "outputs": []
    },
    {
      "cell_type": "code",
      "metadata": {
        "id": "tFgnTdIQ2e-0",
        "outputId": "d7b67e67-15a3-4aa9-a4b2-bfdbda42b707",
        "colab": {
          "base_uri": "https://localhost:8080/",
          "height": 771
        }
      },
      "source": [
        "data.head(20)"
      ],
      "execution_count": 17,
      "outputs": [
        {
          "output_type": "execute_result",
          "data": {
            "text/html": [
              "<div>\n",
              "<style scoped>\n",
              "    .dataframe tbody tr th:only-of-type {\n",
              "        vertical-align: middle;\n",
              "    }\n",
              "\n",
              "    .dataframe tbody tr th {\n",
              "        vertical-align: top;\n",
              "    }\n",
              "\n",
              "    .dataframe thead th {\n",
              "        text-align: right;\n",
              "    }\n",
              "</style>\n",
              "<table border=\"1\" class=\"dataframe\">\n",
              "  <thead>\n",
              "    <tr style=\"text-align: right;\">\n",
              "      <th></th>\n",
              "      <th>tweet_id</th>\n",
              "      <th>sentiment</th>\n",
              "      <th>author</th>\n",
              "      <th>content</th>\n",
              "      <th>clean_content</th>\n",
              "    </tr>\n",
              "  </thead>\n",
              "  <tbody>\n",
              "    <tr>\n",
              "      <th>0</th>\n",
              "      <td>1956967341</td>\n",
              "      <td>empty</td>\n",
              "      <td>xoshayzers</td>\n",
              "      <td>@tiffanylue i know  i was listenin to bad habi...</td>\n",
              "      <td>@tiffanylue i know  i was listenin to bad habi...</td>\n",
              "    </tr>\n",
              "    <tr>\n",
              "      <th>1</th>\n",
              "      <td>1956967666</td>\n",
              "      <td>sadness</td>\n",
              "      <td>wannamama</td>\n",
              "      <td>Layin n bed with a headache  ughhhh...waitin o...</td>\n",
              "      <td>Layin n bed with a headache  ughhhh...waitin o...</td>\n",
              "    </tr>\n",
              "    <tr>\n",
              "      <th>2</th>\n",
              "      <td>1956967696</td>\n",
              "      <td>sadness</td>\n",
              "      <td>coolfunky</td>\n",
              "      <td>Funeral ceremony...gloomy friday...</td>\n",
              "      <td>Funeral ceremony...gloomy friday...</td>\n",
              "    </tr>\n",
              "    <tr>\n",
              "      <th>3</th>\n",
              "      <td>1956967789</td>\n",
              "      <td>enthusiasm</td>\n",
              "      <td>czareaquino</td>\n",
              "      <td>wants to hang out with friends SOON!</td>\n",
              "      <td>wants to hang out with friends SOON!</td>\n",
              "    </tr>\n",
              "    <tr>\n",
              "      <th>4</th>\n",
              "      <td>1956968416</td>\n",
              "      <td>neutral</td>\n",
              "      <td>xkilljoyx</td>\n",
              "      <td>@dannycastillo We want to trade with someone w...</td>\n",
              "      <td>@dannycastillo We want to trade with someone w...</td>\n",
              "    </tr>\n",
              "    <tr>\n",
              "      <th>5</th>\n",
              "      <td>1956968477</td>\n",
              "      <td>worry</td>\n",
              "      <td>xxxPEACHESxxx</td>\n",
              "      <td>Re-pinging @ghostridah14: why didn't you go to...</td>\n",
              "      <td>Re-pinging @ghostridah14: why did not you go t...</td>\n",
              "    </tr>\n",
              "    <tr>\n",
              "      <th>6</th>\n",
              "      <td>1956968487</td>\n",
              "      <td>sadness</td>\n",
              "      <td>ShansBee</td>\n",
              "      <td>I should be sleep, but im not! thinking about ...</td>\n",
              "      <td>I should be sleep, but im not! thinking about ...</td>\n",
              "    </tr>\n",
              "    <tr>\n",
              "      <th>7</th>\n",
              "      <td>1956968636</td>\n",
              "      <td>worry</td>\n",
              "      <td>mcsleazy</td>\n",
              "      <td>Hmmm. http://www.djhero.com/ is down</td>\n",
              "      <td>Hmmm. http://www.djhero.com/ is down</td>\n",
              "    </tr>\n",
              "    <tr>\n",
              "      <th>8</th>\n",
              "      <td>1956969035</td>\n",
              "      <td>sadness</td>\n",
              "      <td>nic0lepaula</td>\n",
              "      <td>@charviray Charlene my love. I miss you</td>\n",
              "      <td>@charviray Charlene my love. I miss you</td>\n",
              "    </tr>\n",
              "    <tr>\n",
              "      <th>9</th>\n",
              "      <td>1956969172</td>\n",
              "      <td>sadness</td>\n",
              "      <td>Ingenue_Em</td>\n",
              "      <td>@kelcouch I'm sorry  at least it's Friday?</td>\n",
              "      <td>@kelcouch I am sorry  at least it is Friday?</td>\n",
              "    </tr>\n",
              "    <tr>\n",
              "      <th>10</th>\n",
              "      <td>1956969456</td>\n",
              "      <td>neutral</td>\n",
              "      <td>feinyheiny</td>\n",
              "      <td>cant fall asleep</td>\n",
              "      <td>cant fall asleep</td>\n",
              "    </tr>\n",
              "    <tr>\n",
              "      <th>11</th>\n",
              "      <td>1956969531</td>\n",
              "      <td>worry</td>\n",
              "      <td>dudeitsmanda</td>\n",
              "      <td>Choked on her retainers</td>\n",
              "      <td>Choked on her retainers</td>\n",
              "    </tr>\n",
              "    <tr>\n",
              "      <th>12</th>\n",
              "      <td>1956970047</td>\n",
              "      <td>sadness</td>\n",
              "      <td>Danied32</td>\n",
              "      <td>Ugh! I have to beat this stupid song to get to...</td>\n",
              "      <td>Ugh! I have to beat this stupid song to get to...</td>\n",
              "    </tr>\n",
              "    <tr>\n",
              "      <th>13</th>\n",
              "      <td>1956970424</td>\n",
              "      <td>sadness</td>\n",
              "      <td>Samm_xo</td>\n",
              "      <td>@BrodyJenner if u watch the hills in london u ...</td>\n",
              "      <td>@BrodyJenner if u watch the hills in london u ...</td>\n",
              "    </tr>\n",
              "    <tr>\n",
              "      <th>14</th>\n",
              "      <td>1956970860</td>\n",
              "      <td>surprise</td>\n",
              "      <td>okiepeanut93</td>\n",
              "      <td>Got the news</td>\n",
              "      <td>Got the news</td>\n",
              "    </tr>\n",
              "    <tr>\n",
              "      <th>15</th>\n",
              "      <td>1956971077</td>\n",
              "      <td>sadness</td>\n",
              "      <td>Sim_34</td>\n",
              "      <td>The storm is here and the electricity is gone</td>\n",
              "      <td>The storm is here and the electricity is gone</td>\n",
              "    </tr>\n",
              "    <tr>\n",
              "      <th>16</th>\n",
              "      <td>1956971170</td>\n",
              "      <td>love</td>\n",
              "      <td>poppygallico</td>\n",
              "      <td>@annarosekerr agreed</td>\n",
              "      <td>@annarosekerr agreed</td>\n",
              "    </tr>\n",
              "    <tr>\n",
              "      <th>17</th>\n",
              "      <td>1956971206</td>\n",
              "      <td>sadness</td>\n",
              "      <td>brokenangel1982</td>\n",
              "      <td>So sleepy again and it's not even that late. I...</td>\n",
              "      <td>So sleepy again and it is not even that late. ...</td>\n",
              "    </tr>\n",
              "    <tr>\n",
              "      <th>18</th>\n",
              "      <td>1956971473</td>\n",
              "      <td>worry</td>\n",
              "      <td>LCJ82</td>\n",
              "      <td>@PerezHilton lady gaga tweeted about not being...</td>\n",
              "      <td>@PerezHilton lady gaga tweeted about not being...</td>\n",
              "    </tr>\n",
              "    <tr>\n",
              "      <th>19</th>\n",
              "      <td>1956971586</td>\n",
              "      <td>sadness</td>\n",
              "      <td>cleepow</td>\n",
              "      <td>How are YOU convinced that I have always wante...</td>\n",
              "      <td>How are YOU convinced that I have always wante...</td>\n",
              "    </tr>\n",
              "  </tbody>\n",
              "</table>\n",
              "</div>"
            ],
            "text/plain": [
              "      tweet_id  ...                                      clean_content\n",
              "0   1956967341  ...  @tiffanylue i know  i was listenin to bad habi...\n",
              "1   1956967666  ...  Layin n bed with a headache  ughhhh...waitin o...\n",
              "2   1956967696  ...                Funeral ceremony...gloomy friday...\n",
              "3   1956967789  ...               wants to hang out with friends SOON!\n",
              "4   1956968416  ...  @dannycastillo We want to trade with someone w...\n",
              "5   1956968477  ...  Re-pinging @ghostridah14: why did not you go t...\n",
              "6   1956968487  ...  I should be sleep, but im not! thinking about ...\n",
              "7   1956968636  ...               Hmmm. http://www.djhero.com/ is down\n",
              "8   1956969035  ...            @charviray Charlene my love. I miss you\n",
              "9   1956969172  ...       @kelcouch I am sorry  at least it is Friday?\n",
              "10  1956969456  ...                                   cant fall asleep\n",
              "11  1956969531  ...                            Choked on her retainers\n",
              "12  1956970047  ...  Ugh! I have to beat this stupid song to get to...\n",
              "13  1956970424  ...  @BrodyJenner if u watch the hills in london u ...\n",
              "14  1956970860  ...                                       Got the news\n",
              "15  1956971077  ...      The storm is here and the electricity is gone\n",
              "16  1956971170  ...                               @annarosekerr agreed\n",
              "17  1956971206  ...  So sleepy again and it is not even that late. ...\n",
              "18  1956971473  ...  @PerezHilton lady gaga tweeted about not being...\n",
              "19  1956971586  ...  How are YOU convinced that I have always wante...\n",
              "\n",
              "[20 rows x 5 columns]"
            ]
          },
          "metadata": {
            "tags": []
          },
          "execution_count": 17
        }
      ]
    },
    {
      "cell_type": "code",
      "metadata": {
        "id": "kkEbc9ZI2hDo"
      },
      "source": [
        "#Removing URLs and Usernames"
      ],
      "execution_count": 18,
      "outputs": []
    },
    {
      "cell_type": "code",
      "metadata": {
        "id": "U1vHxODJ2u5y"
      },
      "source": [
        "\n",
        "import re\n",
        "import preprocessor as p   \n",
        "\n"
      ],
      "execution_count": 19,
      "outputs": []
    },
    {
      "cell_type": "code",
      "metadata": {
        "id": "XXkYleBU2z6a",
        "outputId": "49b30a17-9897-4ab8-9ebc-fb1bdda023da",
        "colab": {
          "base_uri": "https://localhost:8080/",
          "height": 35
        }
      },
      "source": [
        "p.set_options(p.OPT.MENTION, p.OPT.URL)\n",
        "p.clean(\"hello guys @alx #sport🔥 1245 https://github.com/s/preprocessor\")"
      ],
      "execution_count": 20,
      "outputs": [
        {
          "output_type": "execute_result",
          "data": {
            "application/vnd.google.colaboratory.intrinsic+json": {
              "type": "string"
            },
            "text/plain": [
              "'hello guys #sport🔥 1245'"
            ]
          },
          "metadata": {
            "tags": []
          },
          "execution_count": 20
        }
      ]
    },
    {
      "cell_type": "code",
      "metadata": {
        "id": "HLA_FYoy8ZyF"
      },
      "source": [
        "data[\"clean_content\"]=data.content.apply(lambda x : p.clean(x))"
      ],
      "execution_count": 21,
      "outputs": []
    },
    {
      "cell_type": "code",
      "metadata": {
        "id": "9skEZxkA8efH",
        "outputId": "0ed43bda-62ba-4c34-9996-0d68c597db18",
        "colab": {
          "base_uri": "https://localhost:8080/",
          "height": 771
        }
      },
      "source": [
        "data.head(20)"
      ],
      "execution_count": 22,
      "outputs": [
        {
          "output_type": "execute_result",
          "data": {
            "text/html": [
              "<div>\n",
              "<style scoped>\n",
              "    .dataframe tbody tr th:only-of-type {\n",
              "        vertical-align: middle;\n",
              "    }\n",
              "\n",
              "    .dataframe tbody tr th {\n",
              "        vertical-align: top;\n",
              "    }\n",
              "\n",
              "    .dataframe thead th {\n",
              "        text-align: right;\n",
              "    }\n",
              "</style>\n",
              "<table border=\"1\" class=\"dataframe\">\n",
              "  <thead>\n",
              "    <tr style=\"text-align: right;\">\n",
              "      <th></th>\n",
              "      <th>tweet_id</th>\n",
              "      <th>sentiment</th>\n",
              "      <th>author</th>\n",
              "      <th>content</th>\n",
              "      <th>clean_content</th>\n",
              "    </tr>\n",
              "  </thead>\n",
              "  <tbody>\n",
              "    <tr>\n",
              "      <th>0</th>\n",
              "      <td>1956967341</td>\n",
              "      <td>empty</td>\n",
              "      <td>xoshayzers</td>\n",
              "      <td>@tiffanylue i know  i was listenin to bad habi...</td>\n",
              "      <td>i know i was listenin to bad habit earlier and...</td>\n",
              "    </tr>\n",
              "    <tr>\n",
              "      <th>1</th>\n",
              "      <td>1956967666</td>\n",
              "      <td>sadness</td>\n",
              "      <td>wannamama</td>\n",
              "      <td>Layin n bed with a headache  ughhhh...waitin o...</td>\n",
              "      <td>Layin n bed with a headache ughhhh...waitin on...</td>\n",
              "    </tr>\n",
              "    <tr>\n",
              "      <th>2</th>\n",
              "      <td>1956967696</td>\n",
              "      <td>sadness</td>\n",
              "      <td>coolfunky</td>\n",
              "      <td>Funeral ceremony...gloomy friday...</td>\n",
              "      <td>Funeral ceremony...gloomy friday...</td>\n",
              "    </tr>\n",
              "    <tr>\n",
              "      <th>3</th>\n",
              "      <td>1956967789</td>\n",
              "      <td>enthusiasm</td>\n",
              "      <td>czareaquino</td>\n",
              "      <td>wants to hang out with friends SOON!</td>\n",
              "      <td>wants to hang out with friends SOON!</td>\n",
              "    </tr>\n",
              "    <tr>\n",
              "      <th>4</th>\n",
              "      <td>1956968416</td>\n",
              "      <td>neutral</td>\n",
              "      <td>xkilljoyx</td>\n",
              "      <td>@dannycastillo We want to trade with someone w...</td>\n",
              "      <td>We want to trade with someone who has Houston ...</td>\n",
              "    </tr>\n",
              "    <tr>\n",
              "      <th>5</th>\n",
              "      <td>1956968477</td>\n",
              "      <td>worry</td>\n",
              "      <td>xxxPEACHESxxx</td>\n",
              "      <td>Re-pinging @ghostridah14: why didn't you go to...</td>\n",
              "      <td>Re-pinging : why didn't you go to prom? BC my ...</td>\n",
              "    </tr>\n",
              "    <tr>\n",
              "      <th>6</th>\n",
              "      <td>1956968487</td>\n",
              "      <td>sadness</td>\n",
              "      <td>ShansBee</td>\n",
              "      <td>I should be sleep, but im not! thinking about ...</td>\n",
              "      <td>I should be sleep, but im not! thinking about ...</td>\n",
              "    </tr>\n",
              "    <tr>\n",
              "      <th>7</th>\n",
              "      <td>1956968636</td>\n",
              "      <td>worry</td>\n",
              "      <td>mcsleazy</td>\n",
              "      <td>Hmmm. http://www.djhero.com/ is down</td>\n",
              "      <td>Hmmm. is down</td>\n",
              "    </tr>\n",
              "    <tr>\n",
              "      <th>8</th>\n",
              "      <td>1956969035</td>\n",
              "      <td>sadness</td>\n",
              "      <td>nic0lepaula</td>\n",
              "      <td>@charviray Charlene my love. I miss you</td>\n",
              "      <td>Charlene my love. I miss you</td>\n",
              "    </tr>\n",
              "    <tr>\n",
              "      <th>9</th>\n",
              "      <td>1956969172</td>\n",
              "      <td>sadness</td>\n",
              "      <td>Ingenue_Em</td>\n",
              "      <td>@kelcouch I'm sorry  at least it's Friday?</td>\n",
              "      <td>I'm sorry at least it's Friday?</td>\n",
              "    </tr>\n",
              "    <tr>\n",
              "      <th>10</th>\n",
              "      <td>1956969456</td>\n",
              "      <td>neutral</td>\n",
              "      <td>feinyheiny</td>\n",
              "      <td>cant fall asleep</td>\n",
              "      <td>cant fall asleep</td>\n",
              "    </tr>\n",
              "    <tr>\n",
              "      <th>11</th>\n",
              "      <td>1956969531</td>\n",
              "      <td>worry</td>\n",
              "      <td>dudeitsmanda</td>\n",
              "      <td>Choked on her retainers</td>\n",
              "      <td>Choked on her retainers</td>\n",
              "    </tr>\n",
              "    <tr>\n",
              "      <th>12</th>\n",
              "      <td>1956970047</td>\n",
              "      <td>sadness</td>\n",
              "      <td>Danied32</td>\n",
              "      <td>Ugh! I have to beat this stupid song to get to...</td>\n",
              "      <td>Ugh! I have to beat this stupid song to get to...</td>\n",
              "    </tr>\n",
              "    <tr>\n",
              "      <th>13</th>\n",
              "      <td>1956970424</td>\n",
              "      <td>sadness</td>\n",
              "      <td>Samm_xo</td>\n",
              "      <td>@BrodyJenner if u watch the hills in london u ...</td>\n",
              "      <td>if u watch the hills in london u will realise ...</td>\n",
              "    </tr>\n",
              "    <tr>\n",
              "      <th>14</th>\n",
              "      <td>1956970860</td>\n",
              "      <td>surprise</td>\n",
              "      <td>okiepeanut93</td>\n",
              "      <td>Got the news</td>\n",
              "      <td>Got the news</td>\n",
              "    </tr>\n",
              "    <tr>\n",
              "      <th>15</th>\n",
              "      <td>1956971077</td>\n",
              "      <td>sadness</td>\n",
              "      <td>Sim_34</td>\n",
              "      <td>The storm is here and the electricity is gone</td>\n",
              "      <td>The storm is here and the electricity is gone</td>\n",
              "    </tr>\n",
              "    <tr>\n",
              "      <th>16</th>\n",
              "      <td>1956971170</td>\n",
              "      <td>love</td>\n",
              "      <td>poppygallico</td>\n",
              "      <td>@annarosekerr agreed</td>\n",
              "      <td>agreed</td>\n",
              "    </tr>\n",
              "    <tr>\n",
              "      <th>17</th>\n",
              "      <td>1956971206</td>\n",
              "      <td>sadness</td>\n",
              "      <td>brokenangel1982</td>\n",
              "      <td>So sleepy again and it's not even that late. I...</td>\n",
              "      <td>So sleepy again and it's not even that late. I...</td>\n",
              "    </tr>\n",
              "    <tr>\n",
              "      <th>18</th>\n",
              "      <td>1956971473</td>\n",
              "      <td>worry</td>\n",
              "      <td>LCJ82</td>\n",
              "      <td>@PerezHilton lady gaga tweeted about not being...</td>\n",
              "      <td>lady gaga tweeted about not being impressed by...</td>\n",
              "    </tr>\n",
              "    <tr>\n",
              "      <th>19</th>\n",
              "      <td>1956971586</td>\n",
              "      <td>sadness</td>\n",
              "      <td>cleepow</td>\n",
              "      <td>How are YOU convinced that I have always wante...</td>\n",
              "      <td>How are YOU convinced that I have always wante...</td>\n",
              "    </tr>\n",
              "  </tbody>\n",
              "</table>\n",
              "</div>"
            ],
            "text/plain": [
              "      tweet_id  ...                                      clean_content\n",
              "0   1956967341  ...  i know i was listenin to bad habit earlier and...\n",
              "1   1956967666  ...  Layin n bed with a headache ughhhh...waitin on...\n",
              "2   1956967696  ...                Funeral ceremony...gloomy friday...\n",
              "3   1956967789  ...               wants to hang out with friends SOON!\n",
              "4   1956968416  ...  We want to trade with someone who has Houston ...\n",
              "5   1956968477  ...  Re-pinging : why didn't you go to prom? BC my ...\n",
              "6   1956968487  ...  I should be sleep, but im not! thinking about ...\n",
              "7   1956968636  ...                                      Hmmm. is down\n",
              "8   1956969035  ...                       Charlene my love. I miss you\n",
              "9   1956969172  ...                    I'm sorry at least it's Friday?\n",
              "10  1956969456  ...                                   cant fall asleep\n",
              "11  1956969531  ...                            Choked on her retainers\n",
              "12  1956970047  ...  Ugh! I have to beat this stupid song to get to...\n",
              "13  1956970424  ...  if u watch the hills in london u will realise ...\n",
              "14  1956970860  ...                                       Got the news\n",
              "15  1956971077  ...      The storm is here and the electricity is gone\n",
              "16  1956971170  ...                                             agreed\n",
              "17  1956971206  ...  So sleepy again and it's not even that late. I...\n",
              "18  1956971473  ...  lady gaga tweeted about not being impressed by...\n",
              "19  1956971586  ...  How are YOU convinced that I have always wante...\n",
              "\n",
              "[20 rows x 5 columns]"
            ]
          },
          "metadata": {
            "tags": []
          },
          "execution_count": 22
        }
      ]
    },
    {
      "cell_type": "code",
      "metadata": {
        "id": "aPt4dICG8grX"
      },
      "source": [
        "#Removing Punctuations and Emojis"
      ],
      "execution_count": 23,
      "outputs": []
    },
    {
      "cell_type": "code",
      "metadata": {
        "id": "dRE_LQkn9EMc"
      },
      "source": [
        "def punctuation(val): \n",
        "  \n",
        "    punctuations = '''()-[]{};:'\"\\,<>./@#$%^&_~'''\n",
        "  \n",
        "    for x in val.lower(): \n",
        "        if x in punctuations: \n",
        "            val = val.replace(x, \" \") \n",
        "    return val"
      ],
      "execution_count": 24,
      "outputs": []
    },
    {
      "cell_type": "code",
      "metadata": {
        "id": "BBAIt86u9TLO",
        "outputId": "ef4714f5-cffb-46bd-8942-f4a92f0af4c9",
        "colab": {
          "base_uri": "https://localhost:8080/",
          "height": 35
        }
      },
      "source": [
        "punctuation(\"test @ #ldfldlf??? !! \")"
      ],
      "execution_count": 25,
      "outputs": [
        {
          "output_type": "execute_result",
          "data": {
            "application/vnd.google.colaboratory.intrinsic+json": {
              "type": "string"
            },
            "text/plain": [
              "'test    ldfldlf??? !! '"
            ]
          },
          "metadata": {
            "tags": []
          },
          "execution_count": 25
        }
      ]
    },
    {
      "cell_type": "code",
      "metadata": {
        "id": "JmVp_wjK9Xua",
        "outputId": "397e8eeb-1a96-4bc9-b8f1-c8bd7f216d2e",
        "colab": {
          "base_uri": "https://localhost:8080/",
          "height": 299
        }
      },
      "source": [
        "import emoji"
      ],
      "execution_count": 28,
      "outputs": [
        {
          "output_type": "error",
          "ename": "ModuleNotFoundError",
          "evalue": "ignored",
          "traceback": [
            "\u001b[0;31m---------------------------------------------------------------------------\u001b[0m",
            "\u001b[0;31mModuleNotFoundError\u001b[0m                       Traceback (most recent call last)",
            "\u001b[0;32m<ipython-input-28-a96090d81629>\u001b[0m in \u001b[0;36m<module>\u001b[0;34m()\u001b[0m\n\u001b[0;32m----> 1\u001b[0;31m \u001b[0;32mimport\u001b[0m \u001b[0memoji\u001b[0m\u001b[0;34m\u001b[0m\u001b[0;34m\u001b[0m\u001b[0m\n\u001b[0m",
            "\u001b[0;31mModuleNotFoundError\u001b[0m: No module named 'emoji'",
            "",
            "\u001b[0;31m---------------------------------------------------------------------------\u001b[0;32m\nNOTE: If your import is failing due to a missing package, you can\nmanually install dependencies using either !pip or !apt.\n\nTo view examples of installing some common dependencies, click the\n\"Open Examples\" button below.\n\u001b[0;31m---------------------------------------------------------------------------\u001b[0m\n"
          ]
        }
      ]
    },
    {
      "cell_type": "code",
      "metadata": {
        "id": "6W-IGwV99bze",
        "outputId": "276ac66b-5325-4dac-f76e-505b99fb4c47",
        "colab": {
          "base_uri": "https://localhost:8080/"
        }
      },
      "source": [
        "!setup.py install"
      ],
      "execution_count": 1,
      "outputs": [
        {
          "output_type": "stream",
          "text": [
            "/bin/bash: setup.py: command not found\n"
          ],
          "name": "stdout"
        }
      ]
    },
    {
      "cell_type": "code",
      "metadata": {
        "id": "9svC9fnWGaOK",
        "outputId": "b6eef178-613f-404d-cc05-07482b53083c",
        "colab": {
          "base_uri": "https://localhost:8080/"
        }
      },
      "source": [
        "!pip install emoji\n"
      ],
      "execution_count": 2,
      "outputs": [
        {
          "output_type": "stream",
          "text": [
            "Collecting emoji\n",
            "\u001b[?25l  Downloading https://files.pythonhosted.org/packages/ff/1c/1f1457fe52d0b30cbeebfd578483cedb3e3619108d2d5a21380dfecf8ffd/emoji-0.6.0.tar.gz (51kB)\n",
            "\r\u001b[K     |██████▍                         | 10kB 8.9MB/s eta 0:00:01\r\u001b[K     |████████████▉                   | 20kB 1.7MB/s eta 0:00:01\r\u001b[K     |███████████████████▎            | 30kB 2.2MB/s eta 0:00:01\r\u001b[K     |█████████████████████████▊      | 40kB 2.5MB/s eta 0:00:01\r\u001b[K     |████████████████████████████████| 51kB 1.6MB/s \n",
            "\u001b[?25hBuilding wheels for collected packages: emoji\n",
            "  Building wheel for emoji (setup.py) ... \u001b[?25l\u001b[?25hdone\n",
            "  Created wheel for emoji: filename=emoji-0.6.0-cp36-none-any.whl size=49716 sha256=ee29c7531ed278d8566df8ca9a6f366dd086d2186ccf0944ea2b8ba04b8c4595\n",
            "  Stored in directory: /root/.cache/pip/wheels/46/2c/8b/9dcf5216ca68e14e0320e283692dce8ae321cdc01e73e17796\n",
            "Successfully built emoji\n",
            "Installing collected packages: emoji\n",
            "Successfully installed emoji-0.6.0\n"
          ],
          "name": "stdout"
        }
      ]
    },
    {
      "cell_type": "code",
      "metadata": {
        "id": "w5EF8UjhGxqg"
      },
      "source": [
        "import emoji"
      ],
      "execution_count": 3,
      "outputs": []
    },
    {
      "cell_type": "code",
      "metadata": {
        "id": "7UABzMnGG0vi"
      },
      "source": [
        "data.clean_content = data.clean_content.apply(lambda x : ' '.join(punctuation(emoji.demojize(x)).split()))"
      ],
      "execution_count": 26,
      "outputs": []
    },
    {
      "cell_type": "code",
      "metadata": {
        "id": "0qjHrkg_HT1o",
        "outputId": "c0ad7aaf-d0bb-44a6-a482-7fd12a29f0c0",
        "colab": {
          "base_uri": "https://localhost:8080/",
          "height": 771
        }
      },
      "source": [
        "data.head(20)"
      ],
      "execution_count": 28,
      "outputs": [
        {
          "output_type": "execute_result",
          "data": {
            "text/html": [
              "<div>\n",
              "<style scoped>\n",
              "    .dataframe tbody tr th:only-of-type {\n",
              "        vertical-align: middle;\n",
              "    }\n",
              "\n",
              "    .dataframe tbody tr th {\n",
              "        vertical-align: top;\n",
              "    }\n",
              "\n",
              "    .dataframe thead th {\n",
              "        text-align: right;\n",
              "    }\n",
              "</style>\n",
              "<table border=\"1\" class=\"dataframe\">\n",
              "  <thead>\n",
              "    <tr style=\"text-align: right;\">\n",
              "      <th></th>\n",
              "      <th>tweet_id</th>\n",
              "      <th>sentiment</th>\n",
              "      <th>author</th>\n",
              "      <th>content</th>\n",
              "      <th>clean_content</th>\n",
              "    </tr>\n",
              "  </thead>\n",
              "  <tbody>\n",
              "    <tr>\n",
              "      <th>0</th>\n",
              "      <td>1956967341</td>\n",
              "      <td>empty</td>\n",
              "      <td>xoshayzers</td>\n",
              "      <td>@tiffanylue i know  i was listenin to bad habi...</td>\n",
              "      <td>i know i was listenin to bad habit earlier and...</td>\n",
              "    </tr>\n",
              "    <tr>\n",
              "      <th>1</th>\n",
              "      <td>1956967666</td>\n",
              "      <td>sadness</td>\n",
              "      <td>wannamama</td>\n",
              "      <td>Layin n bed with a headache  ughhhh...waitin o...</td>\n",
              "      <td>Layin n bed with a headache ughhhh waitin on y...</td>\n",
              "    </tr>\n",
              "    <tr>\n",
              "      <th>2</th>\n",
              "      <td>1956967696</td>\n",
              "      <td>sadness</td>\n",
              "      <td>coolfunky</td>\n",
              "      <td>Funeral ceremony...gloomy friday...</td>\n",
              "      <td>Funeral ceremony gloomy friday</td>\n",
              "    </tr>\n",
              "    <tr>\n",
              "      <th>3</th>\n",
              "      <td>1956967789</td>\n",
              "      <td>enthusiasm</td>\n",
              "      <td>czareaquino</td>\n",
              "      <td>wants to hang out with friends SOON!</td>\n",
              "      <td>wants to hang out with friends SOON!</td>\n",
              "    </tr>\n",
              "    <tr>\n",
              "      <th>4</th>\n",
              "      <td>1956968416</td>\n",
              "      <td>neutral</td>\n",
              "      <td>xkilljoyx</td>\n",
              "      <td>@dannycastillo We want to trade with someone w...</td>\n",
              "      <td>We want to trade with someone who has Houston ...</td>\n",
              "    </tr>\n",
              "    <tr>\n",
              "      <th>5</th>\n",
              "      <td>1956968477</td>\n",
              "      <td>worry</td>\n",
              "      <td>xxxPEACHESxxx</td>\n",
              "      <td>Re-pinging @ghostridah14: why didn't you go to...</td>\n",
              "      <td>Re pinging why didn t you go to prom? BC my bf...</td>\n",
              "    </tr>\n",
              "    <tr>\n",
              "      <th>6</th>\n",
              "      <td>1956968487</td>\n",
              "      <td>sadness</td>\n",
              "      <td>ShansBee</td>\n",
              "      <td>I should be sleep, but im not! thinking about ...</td>\n",
              "      <td>I should be sleep but im not! thinking about a...</td>\n",
              "    </tr>\n",
              "    <tr>\n",
              "      <th>7</th>\n",
              "      <td>1956968636</td>\n",
              "      <td>worry</td>\n",
              "      <td>mcsleazy</td>\n",
              "      <td>Hmmm. http://www.djhero.com/ is down</td>\n",
              "      <td>Hmmm is down</td>\n",
              "    </tr>\n",
              "    <tr>\n",
              "      <th>8</th>\n",
              "      <td>1956969035</td>\n",
              "      <td>sadness</td>\n",
              "      <td>nic0lepaula</td>\n",
              "      <td>@charviray Charlene my love. I miss you</td>\n",
              "      <td>Charlene my love I miss you</td>\n",
              "    </tr>\n",
              "    <tr>\n",
              "      <th>9</th>\n",
              "      <td>1956969172</td>\n",
              "      <td>sadness</td>\n",
              "      <td>Ingenue_Em</td>\n",
              "      <td>@kelcouch I'm sorry  at least it's Friday?</td>\n",
              "      <td>I m sorry at least it s Friday?</td>\n",
              "    </tr>\n",
              "    <tr>\n",
              "      <th>10</th>\n",
              "      <td>1956969456</td>\n",
              "      <td>neutral</td>\n",
              "      <td>feinyheiny</td>\n",
              "      <td>cant fall asleep</td>\n",
              "      <td>cant fall asleep</td>\n",
              "    </tr>\n",
              "    <tr>\n",
              "      <th>11</th>\n",
              "      <td>1956969531</td>\n",
              "      <td>worry</td>\n",
              "      <td>dudeitsmanda</td>\n",
              "      <td>Choked on her retainers</td>\n",
              "      <td>Choked on her retainers</td>\n",
              "    </tr>\n",
              "    <tr>\n",
              "      <th>12</th>\n",
              "      <td>1956970047</td>\n",
              "      <td>sadness</td>\n",
              "      <td>Danied32</td>\n",
              "      <td>Ugh! I have to beat this stupid song to get to...</td>\n",
              "      <td>Ugh! I have to beat this stupid song to get to...</td>\n",
              "    </tr>\n",
              "    <tr>\n",
              "      <th>13</th>\n",
              "      <td>1956970424</td>\n",
              "      <td>sadness</td>\n",
              "      <td>Samm_xo</td>\n",
              "      <td>@BrodyJenner if u watch the hills in london u ...</td>\n",
              "      <td>if u watch the hills in london u will realise ...</td>\n",
              "    </tr>\n",
              "    <tr>\n",
              "      <th>14</th>\n",
              "      <td>1956970860</td>\n",
              "      <td>surprise</td>\n",
              "      <td>okiepeanut93</td>\n",
              "      <td>Got the news</td>\n",
              "      <td>Got the news</td>\n",
              "    </tr>\n",
              "    <tr>\n",
              "      <th>15</th>\n",
              "      <td>1956971077</td>\n",
              "      <td>sadness</td>\n",
              "      <td>Sim_34</td>\n",
              "      <td>The storm is here and the electricity is gone</td>\n",
              "      <td>The storm is here and the electricity is gone</td>\n",
              "    </tr>\n",
              "    <tr>\n",
              "      <th>16</th>\n",
              "      <td>1956971170</td>\n",
              "      <td>love</td>\n",
              "      <td>poppygallico</td>\n",
              "      <td>@annarosekerr agreed</td>\n",
              "      <td>agreed</td>\n",
              "    </tr>\n",
              "    <tr>\n",
              "      <th>17</th>\n",
              "      <td>1956971206</td>\n",
              "      <td>sadness</td>\n",
              "      <td>brokenangel1982</td>\n",
              "      <td>So sleepy again and it's not even that late. I...</td>\n",
              "      <td>So sleepy again and it s not even that late I ...</td>\n",
              "    </tr>\n",
              "    <tr>\n",
              "      <th>18</th>\n",
              "      <td>1956971473</td>\n",
              "      <td>worry</td>\n",
              "      <td>LCJ82</td>\n",
              "      <td>@PerezHilton lady gaga tweeted about not being...</td>\n",
              "      <td>lady gaga tweeted about not being impressed by...</td>\n",
              "    </tr>\n",
              "    <tr>\n",
              "      <th>19</th>\n",
              "      <td>1956971586</td>\n",
              "      <td>sadness</td>\n",
              "      <td>cleepow</td>\n",
              "      <td>How are YOU convinced that I have always wante...</td>\n",
              "      <td>How are YOU convinced that I have always wante...</td>\n",
              "    </tr>\n",
              "  </tbody>\n",
              "</table>\n",
              "</div>"
            ],
            "text/plain": [
              "      tweet_id  ...                                      clean_content\n",
              "0   1956967341  ...  i know i was listenin to bad habit earlier and...\n",
              "1   1956967666  ...  Layin n bed with a headache ughhhh waitin on y...\n",
              "2   1956967696  ...                     Funeral ceremony gloomy friday\n",
              "3   1956967789  ...               wants to hang out with friends SOON!\n",
              "4   1956968416  ...  We want to trade with someone who has Houston ...\n",
              "5   1956968477  ...  Re pinging why didn t you go to prom? BC my bf...\n",
              "6   1956968487  ...  I should be sleep but im not! thinking about a...\n",
              "7   1956968636  ...                                       Hmmm is down\n",
              "8   1956969035  ...                        Charlene my love I miss you\n",
              "9   1956969172  ...                    I m sorry at least it s Friday?\n",
              "10  1956969456  ...                                   cant fall asleep\n",
              "11  1956969531  ...                            Choked on her retainers\n",
              "12  1956970047  ...  Ugh! I have to beat this stupid song to get to...\n",
              "13  1956970424  ...  if u watch the hills in london u will realise ...\n",
              "14  1956970860  ...                                       Got the news\n",
              "15  1956971077  ...      The storm is here and the electricity is gone\n",
              "16  1956971170  ...                                             agreed\n",
              "17  1956971206  ...  So sleepy again and it s not even that late I ...\n",
              "18  1956971473  ...  lady gaga tweeted about not being impressed by...\n",
              "19  1956971586  ...  How are YOU convinced that I have always wante...\n",
              "\n",
              "[20 rows x 5 columns]"
            ]
          },
          "metadata": {
            "tags": []
          },
          "execution_count": 28
        }
      ]
    },
    {
      "cell_type": "code",
      "metadata": {
        "id": "lojWvLwaHZ8g"
      },
      "source": [
        "def clean_text(val):\n",
        "    val = misspelled_correction(val)\n",
        "    val = cont_to_meaning(val)\n",
        "    val = p.clean(val)\n",
        "    val = ' '.join(punctuation(emoji.demojize(val)).split())\n",
        "    \n",
        "    return val"
      ],
      "execution_count": 29,
      "outputs": []
    },
    {
      "cell_type": "code",
      "metadata": {
        "id": "t64rG8ZFHsIB",
        "outputId": "8d006c81-643f-4fb7-c6c0-c335ab140a1e",
        "colab": {
          "base_uri": "https://localhost:8080/",
          "height": 35
        }
      },
      "source": [
        "clean_text(\"isn't 💡 adultry @ttt good bad ... ! ? \")"
      ],
      "execution_count": 30,
      "outputs": [
        {
          "output_type": "execute_result",
          "data": {
            "application/vnd.google.colaboratory.intrinsic+json": {
              "type": "string"
            },
            "text/plain": [
              "'is not light bulb adultery good bad ! ?'"
            ]
          },
          "metadata": {
            "tags": []
          },
          "execution_count": 30
        }
      ]
    },
    {
      "cell_type": "code",
      "metadata": {
        "id": "smXwOQSuHvM7"
      },
      "source": [
        "#Removing Empty Comments"
      ],
      "execution_count": 31,
      "outputs": []
    },
    {
      "cell_type": "code",
      "metadata": {
        "id": "bgXGHvU5H30G"
      },
      "source": [
        "data = data[data.clean_content != \"\"]"
      ],
      "execution_count": 32,
      "outputs": []
    },
    {
      "cell_type": "code",
      "metadata": {
        "id": "PiF8E71JH6gi",
        "outputId": "8dfc5de2-7ef5-4c97-b39c-e042e3b1c397",
        "colab": {
          "base_uri": "https://localhost:8080/",
          "height": 771
        }
      },
      "source": [
        "data.head(20)"
      ],
      "execution_count": 33,
      "outputs": [
        {
          "output_type": "execute_result",
          "data": {
            "text/html": [
              "<div>\n",
              "<style scoped>\n",
              "    .dataframe tbody tr th:only-of-type {\n",
              "        vertical-align: middle;\n",
              "    }\n",
              "\n",
              "    .dataframe tbody tr th {\n",
              "        vertical-align: top;\n",
              "    }\n",
              "\n",
              "    .dataframe thead th {\n",
              "        text-align: right;\n",
              "    }\n",
              "</style>\n",
              "<table border=\"1\" class=\"dataframe\">\n",
              "  <thead>\n",
              "    <tr style=\"text-align: right;\">\n",
              "      <th></th>\n",
              "      <th>tweet_id</th>\n",
              "      <th>sentiment</th>\n",
              "      <th>author</th>\n",
              "      <th>content</th>\n",
              "      <th>clean_content</th>\n",
              "    </tr>\n",
              "  </thead>\n",
              "  <tbody>\n",
              "    <tr>\n",
              "      <th>0</th>\n",
              "      <td>1956967341</td>\n",
              "      <td>empty</td>\n",
              "      <td>xoshayzers</td>\n",
              "      <td>@tiffanylue i know  i was listenin to bad habi...</td>\n",
              "      <td>i know i was listenin to bad habit earlier and...</td>\n",
              "    </tr>\n",
              "    <tr>\n",
              "      <th>1</th>\n",
              "      <td>1956967666</td>\n",
              "      <td>sadness</td>\n",
              "      <td>wannamama</td>\n",
              "      <td>Layin n bed with a headache  ughhhh...waitin o...</td>\n",
              "      <td>Layin n bed with a headache ughhhh waitin on y...</td>\n",
              "    </tr>\n",
              "    <tr>\n",
              "      <th>2</th>\n",
              "      <td>1956967696</td>\n",
              "      <td>sadness</td>\n",
              "      <td>coolfunky</td>\n",
              "      <td>Funeral ceremony...gloomy friday...</td>\n",
              "      <td>Funeral ceremony gloomy friday</td>\n",
              "    </tr>\n",
              "    <tr>\n",
              "      <th>3</th>\n",
              "      <td>1956967789</td>\n",
              "      <td>enthusiasm</td>\n",
              "      <td>czareaquino</td>\n",
              "      <td>wants to hang out with friends SOON!</td>\n",
              "      <td>wants to hang out with friends SOON!</td>\n",
              "    </tr>\n",
              "    <tr>\n",
              "      <th>4</th>\n",
              "      <td>1956968416</td>\n",
              "      <td>neutral</td>\n",
              "      <td>xkilljoyx</td>\n",
              "      <td>@dannycastillo We want to trade with someone w...</td>\n",
              "      <td>We want to trade with someone who has Houston ...</td>\n",
              "    </tr>\n",
              "    <tr>\n",
              "      <th>5</th>\n",
              "      <td>1956968477</td>\n",
              "      <td>worry</td>\n",
              "      <td>xxxPEACHESxxx</td>\n",
              "      <td>Re-pinging @ghostridah14: why didn't you go to...</td>\n",
              "      <td>Re pinging why didn t you go to prom? BC my bf...</td>\n",
              "    </tr>\n",
              "    <tr>\n",
              "      <th>6</th>\n",
              "      <td>1956968487</td>\n",
              "      <td>sadness</td>\n",
              "      <td>ShansBee</td>\n",
              "      <td>I should be sleep, but im not! thinking about ...</td>\n",
              "      <td>I should be sleep but im not! thinking about a...</td>\n",
              "    </tr>\n",
              "    <tr>\n",
              "      <th>7</th>\n",
              "      <td>1956968636</td>\n",
              "      <td>worry</td>\n",
              "      <td>mcsleazy</td>\n",
              "      <td>Hmmm. http://www.djhero.com/ is down</td>\n",
              "      <td>Hmmm is down</td>\n",
              "    </tr>\n",
              "    <tr>\n",
              "      <th>8</th>\n",
              "      <td>1956969035</td>\n",
              "      <td>sadness</td>\n",
              "      <td>nic0lepaula</td>\n",
              "      <td>@charviray Charlene my love. I miss you</td>\n",
              "      <td>Charlene my love I miss you</td>\n",
              "    </tr>\n",
              "    <tr>\n",
              "      <th>9</th>\n",
              "      <td>1956969172</td>\n",
              "      <td>sadness</td>\n",
              "      <td>Ingenue_Em</td>\n",
              "      <td>@kelcouch I'm sorry  at least it's Friday?</td>\n",
              "      <td>I m sorry at least it s Friday?</td>\n",
              "    </tr>\n",
              "    <tr>\n",
              "      <th>10</th>\n",
              "      <td>1956969456</td>\n",
              "      <td>neutral</td>\n",
              "      <td>feinyheiny</td>\n",
              "      <td>cant fall asleep</td>\n",
              "      <td>cant fall asleep</td>\n",
              "    </tr>\n",
              "    <tr>\n",
              "      <th>11</th>\n",
              "      <td>1956969531</td>\n",
              "      <td>worry</td>\n",
              "      <td>dudeitsmanda</td>\n",
              "      <td>Choked on her retainers</td>\n",
              "      <td>Choked on her retainers</td>\n",
              "    </tr>\n",
              "    <tr>\n",
              "      <th>12</th>\n",
              "      <td>1956970047</td>\n",
              "      <td>sadness</td>\n",
              "      <td>Danied32</td>\n",
              "      <td>Ugh! I have to beat this stupid song to get to...</td>\n",
              "      <td>Ugh! I have to beat this stupid song to get to...</td>\n",
              "    </tr>\n",
              "    <tr>\n",
              "      <th>13</th>\n",
              "      <td>1956970424</td>\n",
              "      <td>sadness</td>\n",
              "      <td>Samm_xo</td>\n",
              "      <td>@BrodyJenner if u watch the hills in london u ...</td>\n",
              "      <td>if u watch the hills in london u will realise ...</td>\n",
              "    </tr>\n",
              "    <tr>\n",
              "      <th>14</th>\n",
              "      <td>1956970860</td>\n",
              "      <td>surprise</td>\n",
              "      <td>okiepeanut93</td>\n",
              "      <td>Got the news</td>\n",
              "      <td>Got the news</td>\n",
              "    </tr>\n",
              "    <tr>\n",
              "      <th>15</th>\n",
              "      <td>1956971077</td>\n",
              "      <td>sadness</td>\n",
              "      <td>Sim_34</td>\n",
              "      <td>The storm is here and the electricity is gone</td>\n",
              "      <td>The storm is here and the electricity is gone</td>\n",
              "    </tr>\n",
              "    <tr>\n",
              "      <th>16</th>\n",
              "      <td>1956971170</td>\n",
              "      <td>love</td>\n",
              "      <td>poppygallico</td>\n",
              "      <td>@annarosekerr agreed</td>\n",
              "      <td>agreed</td>\n",
              "    </tr>\n",
              "    <tr>\n",
              "      <th>17</th>\n",
              "      <td>1956971206</td>\n",
              "      <td>sadness</td>\n",
              "      <td>brokenangel1982</td>\n",
              "      <td>So sleepy again and it's not even that late. I...</td>\n",
              "      <td>So sleepy again and it s not even that late I ...</td>\n",
              "    </tr>\n",
              "    <tr>\n",
              "      <th>18</th>\n",
              "      <td>1956971473</td>\n",
              "      <td>worry</td>\n",
              "      <td>LCJ82</td>\n",
              "      <td>@PerezHilton lady gaga tweeted about not being...</td>\n",
              "      <td>lady gaga tweeted about not being impressed by...</td>\n",
              "    </tr>\n",
              "    <tr>\n",
              "      <th>19</th>\n",
              "      <td>1956971586</td>\n",
              "      <td>sadness</td>\n",
              "      <td>cleepow</td>\n",
              "      <td>How are YOU convinced that I have always wante...</td>\n",
              "      <td>How are YOU convinced that I have always wante...</td>\n",
              "    </tr>\n",
              "  </tbody>\n",
              "</table>\n",
              "</div>"
            ],
            "text/plain": [
              "      tweet_id  ...                                      clean_content\n",
              "0   1956967341  ...  i know i was listenin to bad habit earlier and...\n",
              "1   1956967666  ...  Layin n bed with a headache ughhhh waitin on y...\n",
              "2   1956967696  ...                     Funeral ceremony gloomy friday\n",
              "3   1956967789  ...               wants to hang out with friends SOON!\n",
              "4   1956968416  ...  We want to trade with someone who has Houston ...\n",
              "5   1956968477  ...  Re pinging why didn t you go to prom? BC my bf...\n",
              "6   1956968487  ...  I should be sleep but im not! thinking about a...\n",
              "7   1956968636  ...                                       Hmmm is down\n",
              "8   1956969035  ...                        Charlene my love I miss you\n",
              "9   1956969172  ...                    I m sorry at least it s Friday?\n",
              "10  1956969456  ...                                   cant fall asleep\n",
              "11  1956969531  ...                            Choked on her retainers\n",
              "12  1956970047  ...  Ugh! I have to beat this stupid song to get to...\n",
              "13  1956970424  ...  if u watch the hills in london u will realise ...\n",
              "14  1956970860  ...                                       Got the news\n",
              "15  1956971077  ...      The storm is here and the electricity is gone\n",
              "16  1956971170  ...                                             agreed\n",
              "17  1956971206  ...  So sleepy again and it s not even that late I ...\n",
              "18  1956971473  ...  lady gaga tweeted about not being impressed by...\n",
              "19  1956971586  ...  How are YOU convinced that I have always wante...\n",
              "\n",
              "[20 rows x 5 columns]"
            ]
          },
          "metadata": {
            "tags": []
          },
          "execution_count": 33
        }
      ]
    },
    {
      "cell_type": "code",
      "metadata": {
        "id": "gX25QQMGH9IG",
        "outputId": "2c97c3c2-1e96-439a-c9ff-0154099493ba",
        "colab": {
          "base_uri": "https://localhost:8080/"
        }
      },
      "source": [
        "data.sentiment.value_counts()"
      ],
      "execution_count": 34,
      "outputs": [
        {
          "output_type": "execute_result",
          "data": {
            "text/plain": [
              "neutral       8579\n",
              "worry         8454\n",
              "happiness     5208\n",
              "sadness       5162\n",
              "love          3841\n",
              "surprise      2187\n",
              "fun           1776\n",
              "relief        1526\n",
              "hate          1323\n",
              "empty          815\n",
              "enthusiasm     759\n",
              "boredom        179\n",
              "anger          110\n",
              "Name: sentiment, dtype: int64"
            ]
          },
          "metadata": {
            "tags": []
          },
          "execution_count": 34
        }
      ]
    },
    {
      "cell_type": "code",
      "metadata": {
        "id": "WRAx8i0sIEe5"
      },
      "source": [
        ""
      ],
      "execution_count": null,
      "outputs": []
    }
  ]
}